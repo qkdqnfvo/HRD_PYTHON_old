{
 "cells": [
  {
   "cell_type": "code",
   "execution_count": 16,
   "id": "61d3c171-219c-4182-a442-4c94f4d5229c",
   "metadata": {},
   "outputs": [],
   "source": [
    "from sklearn.model_selection import cross_val_score, GridSearchCV, train_test_split, KFold, StratifiedKFold\n",
    "from sklearn.preprocessing import LabelEncoder, OneHotEncoder, StandardScaler, MinMaxScaler\n",
    "from sklearn.linear_model import LogisticRegression # 이진 분류\n",
    "from sklearn.ensemble import RandomForestClassifier\n",
    "from sklearn.metrics import accuracy_score\n",
    "from sklearn.tree import DecisionTreeClassifier\n",
    "import matplotlib.pyplot as plt\n",
    "import seaborn as sns\n",
    "import pandas as pd\n",
    "import numpy as np\n",
    "import sklearn\n",
    "import Titanic_preprocessing"
   ]
  },
  {
   "cell_type": "code",
   "execution_count": 31,
   "id": "85c1ffaf",
   "metadata": {},
   "outputs": [],
   "source": [
    "# def get_category(age):\n",
    "#     cat = ''\n",
    "#     if age <= -1: cat = 'Unknown'\n",
    "#     elif age <= 5: cat = 'Baby'\n",
    "#     elif age <= 12: cat = 'Child'\n",
    "#     elif age <= 18: cat = 'Teenager'\n",
    "#     elif age <= 25: cat = 'Student'\n",
    "#     elif age <= 35: cat = 'Young Adult'\n",
    "#     elif age <= 60: cat = 'Adult'\n",
    "#     else: cat = 'Elderly'\n",
    "#     return cat\n",
    "\n",
    "# def fillna(df):\n",
    "#     df['Age'].fillna(df['Age'].mean(), inplace=True)\n",
    "#     df['Cabin'].fillna('N', inplace=True)\n",
    "#     df['Embarked'].fillna('N', inplace=True)\n",
    "#     df['Fare'].fillna(0, inplace=True)\n",
    "#     return df\n",
    "\n",
    "# def drop_features(df):\n",
    "#     df.drop(['PassengerId', 'Ticket', 'Name'], axis=1, inplace=True)\n",
    "#     return df\n",
    "\n",
    "# def format_features(df):\n",
    "#     df['Cabin'] = df['Cabin'].str[:1]\n",
    "#     features = ['Sex', 'Cabin', 'Embarked']\n",
    "#     for f in features:\n",
    "#         encoder = LabelEncoder()\n",
    "#         df[f] = encoder.fit_transform(df[f])\n",
    "#     return df\n",
    "\n",
    "# def preprocessing(df):\n",
    "#     df = fillna(df)\n",
    "#     df = drop_features(df)\n",
    "#     df = format_features(df)\n",
    "#     return df\n"
   ]
  },
  {
   "cell_type": "code",
   "execution_count": 13,
   "id": "8c88a867",
   "metadata": {},
   "outputs": [],
   "source": [
    "titanic_df = pd.read_csv('./kaggle/titanic/train.csv')\n",
    "\n",
    "\n",
    "# titanic_df.groupby(['Sex', 'Survived'])['Survived'].count()\n",
    "\n",
    "# sns.barplot(x='Sex', y='Survived', data=titanic_df)\n",
    "# sns.barplot(x='Pclass', y='Survived', data=titanic_df, hue='Sex')\n",
    "\n",
    "# titanic_df['Age_cat'] = titanic_df['Age'].apply(get_category)\n",
    "# titanic_df['Age_cat'] = titanic_df['Age'].apply(lambda x: get_category(x))\n",
    "# titanic_df['Age_cat'] = list(map(lambda x: get_category(x), titanic_df['Age']))\n",
    "\n",
    "# group_name = ['Unknown', 'Baby', 'Child', 'Teenager', 'Student', 'Young Adult', 'Adult', 'Elderly']\n",
    "# sns.barplot(x='Age_cat', y='Survived', hue='Sex', data=titanic_df, order=group_name) # order: xticks, 순서\n",
    "\n",
    "# titanic_df['Sex'].value_counts(), titanic_df['Cabin'].value_counts(), titanic_df['Embarked'].value_counts()\n",
    "\n",
    "titanic_df = Titanic_preprocessing.preprocessing(titanic_df)\n",
    "\n",
    "X = titanic_df[titanic_df.columns.difference(['Survived'])]  # drop을 써서 Survived 만 뺴도 될듯\n",
    "Y = titanic_df[['Survived']]\n",
    "\n",
    "X_train, X_test, Y_train, Y_test = train_test_split(X, Y, test_size=0.2, random_state=11)"
   ]
  },
  {
   "cell_type": "code",
   "execution_count": 32,
   "id": "40340c7a",
   "metadata": {},
   "outputs": [
    {
     "name": "stdout",
     "output_type": "stream",
     "text": [
      "DecisionTreeClassifier acc: 0.7877\n",
      "RandomForestClassifier acc: 0.8547\n",
      "LogisticRegression acc: 0.8659\n"
     ]
    }
   ],
   "source": [
    "dt_clf = DecisionTreeClassifier(random_state=11)\n",
    "rf_clf = RandomForestClassifier(random_state=11)\n",
    "lr_clf = LogisticRegression(solver='liblinear') # penalty: 과적합 완화, # fit_intercept: 바이어스,절편을 찾는가, solver: 알고리즘 종류\n",
    "\n",
    "dt_clf.fit(X_train, Y_train.values.reshape(-1, ))\n",
    "dt_pred = dt_clf.predict(X_test)\n",
    "print('DecisionTreeClassifier acc: {:.4f}'.format(accuracy_score(Y_test, dt_pred)))\n",
    "\n",
    "rf_clf.fit(X_train, Y_train.values.reshape(-1, ))\n",
    "rf_pred = rf_clf.predict(X_test)\n",
    "print('RandomForestClassifier acc: {:.4f}'.format(accuracy_score(Y_test, rf_pred)))\n",
    "\n",
    "lr_clf.fit(X_train, Y_train.values.reshape(-1, ))\n",
    "lr_pred = lr_clf.predict(X_test)\n",
    "print('LogisticRegression acc: {:.4f}'.format(accuracy_score(Y_test, lr_pred)))\n"
   ]
  },
  {
   "cell_type": "code",
   "execution_count": 38,
   "id": "215f48eb",
   "metadata": {},
   "outputs": [],
   "source": [
    "def exec_kfold(clf, df_X, df_Y, fold=5):\n",
    "    kfold = KFold(n_splits=fold)\n",
    "    scores = []\n",
    "    for i, (train_index, test_index) in enumerate(kfold.split(df_X)):\n",
    "        X_train, X_test = df_X.values[train_index], df_X.values[test_index]\n",
    "        Y_train, Y_test = df_Y.values[train_index], df_Y.values[test_index]\n",
    "\n",
    "        clf.fit(X_train, Y_train.reshape(-1, ))\n",
    "        pred = clf.predict(X_test)\n",
    "        scores.append(accuracy_score(Y_test, pred))\n",
    "        print('교차검증 {} acc: {}'.format(i, scores[-1]))\n",
    "    mean_score = np.mean(scores)\n",
    "    print('평균 acc: {:.4f}'.format(mean_score))"
   ]
  },
  {
   "cell_type": "code",
   "execution_count": 48,
   "id": "e59f612f",
   "metadata": {},
   "outputs": [
    {
     "name": "stdout",
     "output_type": "stream",
     "text": [
      "DecisionTreeClassifier(random_state=11)\n",
      "교차검증 0 acc: 0.7541899441340782\n",
      "교차검증 1 acc: 0.7640449438202247\n",
      "교차검증 2 acc: 0.7865168539325843\n",
      "교차검증 3 acc: 0.7696629213483146\n",
      "교차검증 4 acc: 0.8202247191011236\n",
      "평균 acc: 0.7789\n",
      "[0.74301676 0.7752809  0.79775281 0.78651685 0.84269663]\n",
      "0.7890527901575545\n",
      "\n",
      "RandomForestClassifier(random_state=11)\n",
      "교차검증 0 acc: 0.7653631284916201\n",
      "교차검증 1 acc: 0.7921348314606742\n",
      "교차검증 2 acc: 0.8258426966292135\n",
      "교차검증 3 acc: 0.7808988764044944\n",
      "교차검증 4 acc: 0.8595505617977528\n",
      "평균 acc: 0.8048\n",
      "[0.78212291 0.79213483 0.84831461 0.7752809  0.85393258]\n",
      "0.8103571652752495\n",
      "\n",
      "LogisticRegression(solver='liblinear')\n",
      "교차검증 0 acc: 0.7932960893854749\n",
      "교차검증 1 acc: 0.7921348314606742\n",
      "교차검증 2 acc: 0.7752808988764045\n",
      "교차검증 3 acc: 0.7471910112359551\n",
      "교차검증 4 acc: 0.8426966292134831\n",
      "평균 acc: 0.7901\n",
      "[0.7877095  0.79213483 0.7752809  0.76404494 0.82022472]\n",
      "0.7878789780930262\n",
      "\n"
     ]
    }
   ],
   "source": [
    "dt_clf = DecisionTreeClassifier(random_state=11)\n",
    "rf_clf = RandomForestClassifier(random_state=11)\n",
    "lr_clf = LogisticRegression(solver='liblinear')\n",
    "\n",
    "\n",
    "for i in [dt_clf, rf_clf, lr_clf]:\n",
    "    print(i)\n",
    "    exec_kfold(i, X, Y, fold=5)\n",
    "    print(cross_val_score(i, X, Y.values.reshape(-1, ), cv=5, scoring='accuracy'))\n",
    "    print(np.mean(cross_val_score(i, X, Y.values.reshape(-1, ), cv=5, scoring='accuracy')))\n",
    "    print()\n",
    "    "
   ]
  },
  {
   "cell_type": "code",
   "execution_count": 52,
   "id": "0985fbbd",
   "metadata": {},
   "outputs": [
    {
     "name": "stdout",
     "output_type": "stream",
     "text": [
      "GridSearchCV 최적 하이퍼 파라미터: {'max_depth': 3, 'min_samples_leaf': 5, 'min_samples_split': 2}\n",
      "GridSearchCV 최고 acc: 0.7991825076332119\n",
      "acc: 0.8715\n"
     ]
    }
   ],
   "source": [
    "param = {\n",
    "    'max_depth': [2, 3, 5, 10], \n",
    "    'min_samples_split': [2, 3, 5],\n",
    "    'min_samples_leaf': [1, 5, 8]\n",
    "}\n",
    "grid_clf = GridSearchCV(dt_clf, param, scoring='accuracy', cv=5)\n",
    "grid_clf.fit(X_train, Y_train)\n",
    "\n",
    "print('GridSearchCV 최적 하이퍼 파라미터: {}'.format(grid_clf.best_params_))\n",
    "print('GridSearchCV 최고 acc: {}'.format(grid_clf.best_score_))\n",
    "best_clf = grid_clf.best_estimator_\n",
    "\n",
    "best_pred = best_clf.predict(X_test)\n",
    "print('acc: {:.4f}'.format(accuracy_score(Y_test, best_pred)))"
   ]
  }
 ],
 "metadata": {
  "interpreter": {
   "hash": "0c2e67704c6d152f142b8c3106687cd2194e93bf9cff81b34c8c3689f569f836"
  },
  "kernelspec": {
   "display_name": "Python 3.8.0 ('hrd')",
   "language": "python",
   "name": "python3"
  },
  "language_info": {
   "codemirror_mode": {
    "name": "ipython",
    "version": 3
   },
   "file_extension": ".py",
   "mimetype": "text/x-python",
   "name": "python",
   "nbconvert_exporter": "python",
   "pygments_lexer": "ipython3",
   "version": "3.8.0"
  }
 },
 "nbformat": 4,
 "nbformat_minor": 5
}
