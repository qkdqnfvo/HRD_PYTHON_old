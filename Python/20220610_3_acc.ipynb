{
 "cells": [
  {
   "cell_type": "code",
   "execution_count": 22,
   "id": "5499b512",
   "metadata": {},
   "outputs": [],
   "source": [
    "from sklearn.model_selection import train_test_split\n",
    "from sklearn.datasets import load_digits\n",
    "from sklearn.metrics import accuracy_score, confusion_matrix, precision_score, recall_score\n",
    "from sklearn.base import BaseEstimator\n",
    "from sklearn.preprocessing import Binarizer\n",
    "from sklearn.linear_model import LogisticRegression\n",
    "import Titanic_preprocessing\n",
    "import pandas as pd\n",
    "import numpy as np\n",
    "\n",
    "\n",
    "# from PIL import Image"
   ]
  },
  {
   "cell_type": "code",
   "execution_count": 2,
   "id": "8c3c0228",
   "metadata": {},
   "outputs": [],
   "source": [
    "class MyDummyClassifier(BaseEstimator):\n",
    "    def fit(self, x, y=None):\n",
    "        pass\n",
    "\n",
    "    def predict(self, x):\n",
    "        pred = np.zeros((x.shape[0], 1))\n",
    "        for i in range(x.shape[0]):\n",
    "            if x['Sex'].iloc[i] == 1:\n",
    "                pred[i] = 0\n",
    "            else:\n",
    "                pred[i] = 1\n",
    "            # pred[i] = 0 if x['Sex'].iloc[i] == 1 else 1\n",
    "        return pred\n"
   ]
  },
  {
   "cell_type": "code",
   "execution_count": 15,
   "id": "33a9ba2b",
   "metadata": {},
   "outputs": [
    {
     "data": {
      "text/plain": [
       "0.8324022346368715"
      ]
     },
     "execution_count": 15,
     "metadata": {},
     "output_type": "execute_result"
    }
   ],
   "source": [
    "df = pd.read_csv('./kaggle/titanic/train.csv')\n",
    "df = Titanic_preprocessing.preprocessing(df)\n",
    "X = df[df.columns.difference(['Survived'])]\n",
    "Y = df[['Survived']]\n",
    "X_train, X_test, Y_train, Y_test = train_test_split(X, Y, test_size=0.2, random_state=11)\n",
    "\n",
    "\n",
    "myclf = MyDummyClassifier()\n",
    "myclf.fit(X_train, Y_train)\n",
    "pred = myclf.predict(X_test)\n",
    "accuracy_score(Y_test, pred)"
   ]
  },
  {
   "cell_type": "code",
   "execution_count": 4,
   "id": "65660c9f",
   "metadata": {},
   "outputs": [],
   "source": [
    "class MyFakeClassifier(BaseEstimator):\n",
    "    def fit(self, x, y=None):\n",
    "        pass\n",
    "\n",
    "    def predict(self, x):\n",
    "        # return np.zeros((x.shape[0], 1), dtype=bool)\n",
    "        return np.zeros((len(x), 1), dtype=bool)\n"
   ]
  },
  {
   "cell_type": "code",
   "execution_count": 11,
   "id": "af7e0d57",
   "metadata": {},
   "outputs": [
    {
     "name": "stdout",
     "output_type": "stream",
     "text": [
      "shape: (450,)\n",
      "테스트 세트 레이블 0과 1의 분포도\n",
      "0    405\n",
      "1     45\n",
      "dtype: int64\n",
      "모든 예측 0, acc: 0.9\n"
     ]
    }
   ],
   "source": [
    "# mnist digit\n",
    "\n",
    "digits = load_digits()\n",
    "# b = digits.data[5,:].reshape(8, 8) * 255 / np.max(digits.data[0,:].reshape(8, 8))\n",
    "# image=Image.fromarray(b)\n",
    "# image.show()\n",
    "\n",
    "Y = (digits.target == 7).astype(int)\n",
    "X_train, X_test, Y_train, Y_test = train_test_split(digits.data, Y, random_state=11)\n",
    "\n",
    "print('shape: {}'.format(Y_test.shape))\n",
    "print('테스트 세트 레이블 0과 1의 분포도')\n",
    "print(pd.Series(Y_test).value_counts())\n",
    "\n",
    "\n",
    "fakeclf = MyFakeClassifier()\n",
    "fakeclf.fit(X_train, Y_train)\n",
    "pred = fakeclf.predict(X_test)\n",
    "print('모든 예측 0, acc: {}'.format(accuracy_score(Y_test, pred)))\n",
    "\n"
   ]
  },
  {
   "cell_type": "code",
   "execution_count": 14,
   "id": "d2a07962",
   "metadata": {},
   "outputs": [],
   "source": [
    "def get_clf_eval(Y_test, pred):\n",
    "    confusion = confusion_matrix(Y_test, pred)\n",
    "    acc = accuracy_score(Y_test, pred)\n",
    "    precision = precision_score(Y_test, pred)\n",
    "    recall = recall_score(Y_test, pred)\n",
    "    print('Confusion matrix')\n",
    "    print(confusion)\n",
    "    print('acc: {:.4f}, precision: {:.4f}, recall: {:.4f}'.format(acc, precision, recall))"
   ]
  },
  {
   "cell_type": "code",
   "execution_count": 23,
   "id": "15b4f696",
   "metadata": {},
   "outputs": [
    {
     "name": "stdout",
     "output_type": "stream",
     "text": [
      "Confusion matrix\n",
      "[[108  10]\n",
      " [ 14  47]]\n",
      "acc: 0.8659, precision: 0.8246, recall: 0.7705\n"
     ]
    }
   ],
   "source": [
    "lr_clf = LogisticRegression(solver='liblinear')\n",
    "lr_clf.fit(X_train, Y_train.values.reshape(-1, ))\n",
    "pred = lr_clf.predict(X_test)\n",
    "get_clf_eval(Y_test, pred)"
   ]
  },
  {
   "cell_type": "code",
   "execution_count": 51,
   "id": "77f5da15",
   "metadata": {},
   "outputs": [
    {
     "name": "stdout",
     "output_type": "stream",
     "text": [
      "(179, 2)\n",
      "[[0.44935225 0.55064775]\n",
      " [0.86335511 0.13664489]\n",
      " [0.86429643 0.13570357]]\n",
      "[[0.44935225 0.55064775 1.        ]\n",
      " [0.86335511 0.13664489 0.        ]\n",
      " [0.86429643 0.13570357 0.        ]]\n"
     ]
    }
   ],
   "source": [
    "pred_proba = lr_clf.predict_proba(X_test)\n",
    "pred = lr_clf.predict(X_test)\n",
    "print(pred_proba.shape)\n",
    "print(pred_proba[:3])\n",
    "pred_proba_result = np.concatenate([pred_proba, pred.reshape(-1, 1)], axis=1)\n",
    "print(pred_proba_result[:3])"
   ]
  },
  {
   "cell_type": "code",
   "execution_count": 44,
   "id": "92ccde93",
   "metadata": {},
   "outputs": [
    {
     "data": {
      "text/plain": [
       "array([[0., 0., 1.],\n",
       "       [1., 0., 0.],\n",
       "       [0., 0., 1.]])"
      ]
     },
     "execution_count": 44,
     "metadata": {},
     "output_type": "execute_result"
    }
   ],
   "source": [
    "X = [\n",
    "    [1, -1, 2],\n",
    "    [2, 0, 0],\n",
    "    [0, 1.1, 1.2]\n",
    "]\n",
    "binarizer = Binarizer(threshold=1.1) # 1.1 초과 1, 이하면 0\n",
    "binarizer.fit_transform(X)"
   ]
  },
  {
   "cell_type": "code",
   "execution_count": 45,
   "id": "2c7263db",
   "metadata": {},
   "outputs": [
    {
     "name": "stdout",
     "output_type": "stream",
     "text": [
      "Confusion matrix\n",
      "[[108  10]\n",
      " [ 14  47]]\n",
      "acc: 0.8659, precision: 0.8246, recall: 0.7705\n"
     ]
    }
   ],
   "source": [
    "custom_threshold = 0.5\n",
    "pred_proba_1 = lr_clf.predict_proba(X_test)[:, 1].reshape(-1, 1)\n",
    "\n",
    "binarizer = Binarizer(threshold=custom_threshold)\n",
    "custom_predict = binarizer.fit_transform(pred_proba_1)\n",
    "get_clf_eval(Y_test, custom_predict)"
   ]
  },
  {
   "cell_type": "code",
   "execution_count": 46,
   "id": "05df8dac",
   "metadata": {},
   "outputs": [
    {
     "name": "stdout",
     "output_type": "stream",
     "text": [
      "Confusion matrix\n",
      "[[97 21]\n",
      " [11 50]]\n",
      "acc: 0.8212, precision: 0.7042, recall: 0.8197\n"
     ]
    }
   ],
   "source": [
    "custom_threshold = 0.4\n",
    "pred_proba_1 = lr_clf.predict_proba(X_test)[:, 1].reshape(-1, 1)\n",
    "\n",
    "binarizer = Binarizer(threshold=custom_threshold)\n",
    "custom_predict = binarizer.fit_transform(pred_proba_1)\n",
    "get_clf_eval(Y_test, custom_predict)      # 임계치를 낮추면 재현율(recall)이 올라간다"
   ]
  },
  {
   "cell_type": "code",
   "execution_count": 47,
   "id": "bb6d55c1",
   "metadata": {},
   "outputs": [
    {
     "name": "stdout",
     "output_type": "stream",
     "text": [
      "Confusion matrix\n",
      "[[113   5]\n",
      " [ 17  44]]\n",
      "acc: 0.8771, precision: 0.8980, recall: 0.7213\n"
     ]
    }
   ],
   "source": [
    "custom_threshold = 0.6\n",
    "pred_proba_1 = lr_clf.predict_proba(X_test)[:, 1].reshape(-1, 1)\n",
    "\n",
    "binarizer = Binarizer(threshold=custom_threshold)\n",
    "custom_predict = binarizer.fit_transform(pred_proba_1)\n",
    "get_clf_eval(Y_test, custom_predict)     # 임계치를 높이면 정밀도(precision)이 올라간다"
   ]
  },
  {
   "cell_type": "code",
   "execution_count": 52,
   "id": "2f8c2f45",
   "metadata": {},
   "outputs": [
    {
     "name": "stdout",
     "output_type": "stream",
     "text": [
      "threshold: 0.4\n",
      "Confusion matrix\n",
      "[[97 21]\n",
      " [11 50]]\n",
      "acc: 0.8212, precision: 0.7042, recall: 0.8197\n",
      "\n",
      "threshold: 0.45\n",
      "Confusion matrix\n",
      "[[105  13]\n",
      " [ 13  48]]\n",
      "acc: 0.8547, precision: 0.7869, recall: 0.7869\n",
      "\n",
      "threshold: 0.5\n",
      "Confusion matrix\n",
      "[[108  10]\n",
      " [ 14  47]]\n",
      "acc: 0.8659, precision: 0.8246, recall: 0.7705\n",
      "\n",
      "threshold: 0.55\n",
      "Confusion matrix\n",
      "[[111   7]\n",
      " [ 16  45]]\n",
      "acc: 0.8715, precision: 0.8654, recall: 0.7377\n",
      "\n",
      "threshold: 0.6\n",
      "Confusion matrix\n",
      "[[113   5]\n",
      " [ 17  44]]\n",
      "acc: 0.8771, precision: 0.8980, recall: 0.7213\n",
      "\n"
     ]
    }
   ],
   "source": [
    "thresholds = [0.4, 0.45, 0.5, 0.55, 0.6]\n",
    "\n",
    "def get_eval_by_threshold(Y_test, pred, thresholds):\n",
    "    for i in thresholds:\n",
    "        binarizer = Binarizer(threshold=i)\n",
    "        custom_predict = binarizer.fit_transform(pred)\n",
    "        print('threshold: {}'.format(i))\n",
    "        get_clf_eval(Y_test, custom_predict)\n",
    "        print()\n",
    "\n",
    "get_eval_by_threshold(Y_test, pred_proba_1, thresholds)"
   ]
  },
  {
   "cell_type": "code",
   "execution_count": 54,
   "id": "4ccd9886",
   "metadata": {},
   "outputs": [
    {
     "name": "stdout",
     "output_type": "stream",
     "text": [
      "반환된 분류 결정 임곗값 배열의 Shape: (165,)\n",
      "반환된 precisions 배열의 Shape: (166,)\n",
      "반환된 recalls 배열의 Shape: (166,)\n",
      "thresholds 5 sample: [0.01974988 0.06956416 0.0840281  0.08474207 0.08920162]\n",
      "precisions 5 sample: [0.34078212 0.34269663 0.34463277 0.34659091 0.34857143]\n",
      "recalls 5 sample: [1. 1. 1. 1. 1.]\n",
      "샘플 추출을 위한 임계값 배열의 index 10개: [  0  15  30  45  60  75  90 105 120 135 150]\n",
      "샘플용 10개의 임곗값:  [0.02 0.11 0.13 0.14 0.16 0.24 0.32 0.45 0.62 0.73 0.87]\n",
      "샘플 임계값별 정밀도:  [0.341 0.372 0.401 0.44  0.505 0.598 0.688 0.774 0.915 0.968 0.938]\n",
      "샘플 임계값별 재현율:  [1.    1.    0.967 0.902 0.902 0.902 0.869 0.787 0.705 0.492 0.246]\n"
     ]
    },
    {
     "data": {
      "image/png": "[encoded data removed]",
      "text/plain": [
       "<Figure size 576x432 with 1 Axes>"
      ]
     },
     "metadata": {
      "needs_background": "light"
     },
     "output_type": "display_data"
    }
   ],
   "source": [
    "from sklearn.metrics import precision_recall_curve\n",
    "\n",
    "# 레이블 값이 1일때의 예측 확률을 추출 \n",
    "pred_proba_class1 = lr_clf.predict_proba(X_test)[:, 1] \n",
    "\n",
    "# 실제값 데이터 셋과 레이블 값이 1일 때의 예측 확률을 precision_recall_curve 인자로 입력 \n",
    "precisions, recalls, thresholds = precision_recall_curve(Y_test, pred_proba_class1 )\n",
    "print('반환된 분류 결정 임곗값 배열의 Shape:', thresholds.shape)\n",
    "print('반환된 precisions 배열의 Shape:', precisions.shape)\n",
    "print('반환된 recalls 배열의 Shape:', recalls.shape)\n",
    "\n",
    "print(\"thresholds 5 sample:\", thresholds[:5])\n",
    "print(\"precisions 5 sample:\", precisions[:5])\n",
    "print(\"recalls 5 sample:\", recalls[:5])\n",
    "\n",
    "#반환된 임계값 배열 로우가 147건이므로 샘플로 10건만 추출하되, 임곗값을 15 Step으로 추출. \n",
    "thr_index = np.arange(0, thresholds.shape[0], 15)\n",
    "print('샘플 추출을 위한 임계값 배열의 index 10개:', thr_index)\n",
    "print('샘플용 10개의 임곗값: ', np.round(thresholds[thr_index], 2))\n",
    "\n",
    "# 15 step 단위로 추출된 임계값에 따른 정밀도와 재현율 값 \n",
    "print('샘플 임계값별 정밀도: ', np.round(precisions[thr_index], 3))\n",
    "print('샘플 임계값별 재현율: ', np.round(recalls[thr_index], 3))\n",
    "\n",
    "import matplotlib.pyplot as plt\n",
    "import matplotlib.ticker as ticker\n",
    "%matplotlib inline\n",
    "\n",
    "def precision_recall_curve_plot(y_test , pred_proba_c1):\n",
    "    # threshold ndarray와 이 threshold에 따른 정밀도, 재현율 ndarray 추출. \n",
    "    precisions, recalls, thresholds = precision_recall_curve( y_test, pred_proba_c1)\n",
    "    \n",
    "    # X축을 threshold값으로, Y축은 정밀도, 재현율 값으로 각각 Plot 수행. 정밀도는 점선으로 표시\n",
    "    plt.figure(figsize=(8,6))\n",
    "    threshold_boundary = thresholds.shape[0]\n",
    "    plt.plot(thresholds, precisions[0:threshold_boundary], linestyle='--', label='precision')\n",
    "    plt.plot(thresholds, recalls[0:threshold_boundary],label='recall')\n",
    "    \n",
    "    # threshold 값 X 축의 Scale을 0.1 단위로 변경\n",
    "    start, end = plt.xlim()\n",
    "    plt.xticks(np.round(np.arange(start, end, 0.1),2))\n",
    "    \n",
    "    # x축, y축 label과 legend, 그리고 grid 설정\n",
    "    plt.xlabel('Threshold value'); plt.ylabel('Precision and Recall value')\n",
    "    plt.legend(); plt.grid()\n",
    "    plt.show()\n",
    "    \n",
    "precision_recall_curve_plot(Y_test, lr_clf.predict_proba(X_test)[:, 1] )\n"
   ]
  },
  {
   "cell_type": "code",
   "execution_count": null,
   "id": "629579df",
   "metadata": {},
   "outputs": [],
   "source": []
  }
 ],
 "metadata": {
  "interpreter": {
   "hash": "0c2e67704c6d152f142b8c3106687cd2194e93bf9cff81b34c8c3689f569f836"
  },
  "kernelspec": {
   "display_name": "Python 3.8.0 ('hrd')",
   "language": "python",
   "name": "python3"
  },
  "language_info": {
   "codemirror_mode": {
    "name": "ipython",
    "version": 3
   },
   "file_extension": ".py",
   "mimetype": "text/x-python",
   "name": "python",
   "nbconvert_exporter": "python",
   "pygments_lexer": "ipython3",
   "version": "3.8.0"
  }
 },
 "nbformat": 4,
 "nbformat_minor": 5
}
