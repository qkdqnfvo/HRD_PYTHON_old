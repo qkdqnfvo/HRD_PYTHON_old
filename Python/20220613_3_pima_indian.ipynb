{
 "cells": [
  {
   "cell_type": "code",
   "execution_count": 55,
   "id": "154cf95a",
   "metadata": {},
   "outputs": [],
   "source": [
    "from sklearn.model_selection import train_test_split\n",
    "from sklearn.preprocessing import StandardScaler, Binarizer\n",
    "\n",
    "from sklearn.linear_model import LogisticRegression\n",
    "from sklearn.metrics import accuracy_score, precision_score, recall_score, roc_auc_score, f1_score,\\\n",
    "    confusion_matrix, precision_recall_curve, roc_curve\n",
    "\n",
    "import matplotlib.pyplot as plt\n",
    "import pandas as pd\n",
    "import numpy as np"
   ]
  },
  {
   "cell_type": "code",
   "execution_count": 67,
   "id": "b903f968",
   "metadata": {},
   "outputs": [],
   "source": [
    "def get_clf_eval(Y_test, pred, pred_proba=None):\n",
    "    confusion = confusion_matrix(Y_test, pred)\n",
    "    acc = accuracy_score(Y_test, pred)\n",
    "    precision = precision_score(Y_test, pred)\n",
    "    recall = recall_score(Y_test, pred)\n",
    "    f1 = f1_score(Y_test, pred)\n",
    "    roc_auc = roc_auc_score(Y_test, pred_proba)\n",
    "    print('Confusion matrix')\n",
    "    print(confusion)\n",
    "    print('acc: {:.4f}, precision: {:.4f}, recall: {:.4f}, F1: {:.4f}, roc_auc: {:.4f}'.format(acc, precision, recall, f1, roc_auc))\n",
    "    # print(f'acc: {acc:.4f}, precision: {precision:.4f}, recall: {recall:.4f}, F1: {f1:.4f}')\n",
    "\n",
    "\n",
    "def precision_recall_curve_plot(y_test , pred_proba_c1):\n",
    "    # threshold ndarray와 이 threshold에 따른 정밀도, 재현율 ndarray 추출. \n",
    "    precisions, recalls, thresholds = precision_recall_curve( y_test, pred_proba_c1)\n",
    "    \n",
    "    # X축을 threshold값으로, Y축은 정밀도, 재현율 값으로 각각 Plot 수행. 정밀도는 점선으로 표시\n",
    "    plt.figure(figsize=(8,6))\n",
    "    threshold_boundary = thresholds.shape[0]\n",
    "    plt.plot(thresholds, precisions[0:threshold_boundary], linestyle='--', label='precision')\n",
    "    plt.plot(thresholds, recalls[0:threshold_boundary],label='recall')\n",
    "    \n",
    "    # threshold 값 X 축의 Scale을 0.1 단위로 변경\n",
    "    start, end = plt.xlim()\n",
    "    plt.xticks(np.round(np.arange(start, end, 0.1),2))\n",
    "    \n",
    "    # x축, y축 label과 legend, 그리고 grid 설정\n",
    "    plt.xlabel('Threshold value'); plt.ylabel('Precision and Recall value')\n",
    "    plt.legend(); plt.grid()\n",
    "    plt.show()\n",
    "\n",
    "def get_eval_by_threshold(Y_test, pred_proba, thresholds):\n",
    "    for i in thresholds:\n",
    "        binarizer = Binarizer(threshold=i)\n",
    "        custom_predict = binarizer.fit_transform(pred_proba)\n",
    "        print('threshold: {}'.format(i))\n",
    "        get_clf_eval(Y_test, custom_predict, pred_proba)\n",
    "        print()"
   ]
  },
  {
   "cell_type": "code",
   "execution_count": 60,
   "id": "c0dd2ea3",
   "metadata": {},
   "outputs": [],
   "source": [
    "diabetes_data = pd.read_csv('./kaggle/pima/diabetes.csv')\n",
    "\n",
    "X = diabetes_data.iloc[:, :-1]\n",
    "Y = diabetes_data.iloc[:, -1]\n",
    "X_train, X_test, Y_train, Y_test = train_test_split(X, Y, test_size=0.2, random_state=156, stratify=y)\n",
    "lr_clf = LogisticRegression(solver='liblinear')\n",
    "lr_clf.fit(X_train, Y_train)\n",
    "pred = lr_clf.predict(X_test)\n",
    "pred_proba = lr_clf.predict_proba(X_test)[:, 1]\n"
   ]
  },
  {
   "cell_type": "code",
   "execution_count": 48,
   "id": "c97cb6a3",
   "metadata": {},
   "outputs": [
    {
     "name": "stdout",
     "output_type": "stream",
     "text": [
      "Confusion matrix\n",
      "[[87 13]\n",
      " [22 32]]\n",
      "acc: 0.7727, precision: 0.7111, recall: 0.5926, F1: 0.6465, roc_auc: 0.8083\n"
     ]
    }
   ],
   "source": [
    "get_clf_eval(Y_test, pred, pred_proba)"
   ]
  },
  {
   "cell_type": "code",
   "execution_count": 49,
   "id": "0a00afab",
   "metadata": {},
   "outputs": [
    {
     "data": {
      "image/png": "[encoded data removed]",
      "text/plain": [
       "<Figure size 576x432 with 1 Axes>"
      ]
     },
     "metadata": {
      "needs_background": "light"
     },
     "output_type": "display_data"
    }
   ],
   "source": [
    "precision_recall_curve_plot(Y_test, pred_proba)"
   ]
  },
  {
   "cell_type": "code",
   "execution_count": 61,
   "id": "0d42f932",
   "metadata": {},
   "outputs": [
    {
     "name": "stdout",
     "output_type": "stream",
     "text": [
      "Glucose = 0 건수: 5, 0.65 %\n",
      "BloodPressure = 0 건수: 35, 4.56 %\n",
      "SkinThickness = 0 건수: 227, 29.56 %\n",
      "Insulin = 0 건수: 374, 48.70 %\n",
      "BMI = 0 건수: 11, 1.43 %\n"
     ]
    }
   ],
   "source": [
    "zero_features = ['Glucose', 'BloodPressure', 'SkinThickness', 'Insulin', 'BMI']\n",
    "total_count = diabetes_data['Glucose'].count()\n",
    "for f in zero_features:\n",
    "    zero_count = diabetes_data[diabetes_data[f]==0][f].count()\n",
    "    print('{} = 0 건수: {}, {:.2f} %'.format(f, zero_count, zero_count/total_count*100))\n",
    "mean_zero_features = diabetes_data[zero_features].mean()\n",
    "diabetes_data[zero_features] = diabetes_data[zero_features].replace(0, mean_zero_features)"
   ]
  },
  {
   "cell_type": "code",
   "execution_count": 62,
   "id": "0bd26219",
   "metadata": {},
   "outputs": [],
   "source": [
    "X = diabetes_data.iloc[:, :-1]\n",
    "Y = diabetes_data.iloc[:, -1]\n",
    "\n",
    "scaler = StandardScaler()\n",
    "X_scaled = scaler.fit_transform(X)\n",
    "X_train, X_test, Y_train, Y_test = train_test_split(X_scaled, Y, test_size=0.2, random_state=156, stratify=y)\n",
    "\n",
    "lr_clf = LogisticRegression(solver='liblinear')\n",
    "lr_clf.fit(X_train, Y_train)\n",
    "pred = lr_clf.predict(X_test)\n",
    "pred_proba = lr_clf.predict_proba(X_test)[:, 1]\n"
   ]
  },
  {
   "cell_type": "code",
   "execution_count": 52,
   "id": "c147c78d",
   "metadata": {},
   "outputs": [
    {
     "name": "stdout",
     "output_type": "stream",
     "text": [
      "Confusion matrix\n",
      "[[90 10]\n",
      " [21 33]]\n",
      "acc: 0.7987, precision: 0.7674, recall: 0.6111, F1: 0.6804, roc_auc: 0.8433\n"
     ]
    }
   ],
   "source": [
    "get_clf_eval(Y_test, pred, pred_proba)"
   ]
  },
  {
   "cell_type": "code",
   "execution_count": 68,
   "id": "d47dbbb4",
   "metadata": {},
   "outputs": [
    {
     "name": "stdout",
     "output_type": "stream",
     "text": [
      "threshold: 0.3\n",
      "Confusion matrix\n",
      "[[65 35]\n",
      " [11 43]]\n",
      "acc: 0.7013, precision: 0.5513, recall: 0.7963, F1: 0.6515, roc_auc: 0.8433\n",
      "\n",
      "threshold: 0.33\n",
      "Confusion matrix\n",
      "[[71 29]\n",
      " [11 43]]\n",
      "acc: 0.7403, precision: 0.5972, recall: 0.7963, F1: 0.6825, roc_auc: 0.8433\n",
      "\n",
      "threshold: 0.36\n",
      "Confusion matrix\n",
      "[[76 24]\n",
      " [15 39]]\n",
      "acc: 0.7468, precision: 0.6190, recall: 0.7222, F1: 0.6667, roc_auc: 0.8433\n",
      "\n",
      "threshold: 0.39\n",
      "Confusion matrix\n",
      "[[78 22]\n",
      " [16 38]]\n",
      "acc: 0.7532, precision: 0.6333, recall: 0.7037, F1: 0.6667, roc_auc: 0.8433\n",
      "\n",
      "threshold: 0.42\n",
      "Confusion matrix\n",
      "[[84 16]\n",
      " [18 36]]\n",
      "acc: 0.7792, precision: 0.6923, recall: 0.6667, F1: 0.6792, roc_auc: 0.8433\n",
      "\n",
      "threshold: 0.45\n",
      "Confusion matrix\n",
      "[[85 15]\n",
      " [18 36]]\n",
      "acc: 0.7857, precision: 0.7059, recall: 0.6667, F1: 0.6857, roc_auc: 0.8433\n",
      "\n",
      "threshold: 0.48\n",
      "Confusion matrix\n",
      "[[88 12]\n",
      " [19 35]]\n",
      "acc: 0.7987, precision: 0.7447, recall: 0.6481, F1: 0.6931, roc_auc: 0.8433\n",
      "\n",
      "threshold: 0.5\n",
      "Confusion matrix\n",
      "[[90 10]\n",
      " [21 33]]\n",
      "acc: 0.7987, precision: 0.7674, recall: 0.6111, F1: 0.6804, roc_auc: 0.8433\n",
      "\n"
     ]
    }
   ],
   "source": [
    "thresholds = [0.3, 0.33, 0.36, 0.39, 0.42, 0.45, 0.48, 0.5]\n",
    "get_eval_by_threshold(Y_test, pred_proba.reshape(-1 ,1), thresholds)"
   ]
  },
  {
   "cell_type": "code",
   "execution_count": 70,
   "id": "fb687b43",
   "metadata": {},
   "outputs": [
    {
     "name": "stdout",
     "output_type": "stream",
     "text": [
      "Confusion matrix\n",
      "[[88 12]\n",
      " [19 35]]\n",
      "acc: 0.7987, precision: 0.7447, recall: 0.6481, F1: 0.6931, roc_auc: 0.8433\n"
     ]
    }
   ],
   "source": [
    "binarizer = Binarizer(threshold=0.48)\n",
    "pred_th_048 = binarizer.fit_transform(pred_proba.reshape(-1, 1))\n",
    "get_clf_eval(Y_test, pred_th_048, pred_proba)"
   ]
  },
  {
   "cell_type": "code",
   "execution_count": null,
   "id": "171f5cd6",
   "metadata": {},
   "outputs": [],
   "source": []
  },
  {
   "cell_type": "code",
   "execution_count": null,
   "id": "88f737d2",
   "metadata": {},
   "outputs": [],
   "source": []
  },
  {
   "cell_type": "code",
   "execution_count": null,
   "id": "934d6775",
   "metadata": {},
   "outputs": [],
   "source": []
  },
  {
   "cell_type": "code",
   "execution_count": null,
   "id": "da62d4d7",
   "metadata": {},
   "outputs": [],
   "source": []
  },
  {
   "cell_type": "code",
   "execution_count": null,
   "id": "ee6d799e",
   "metadata": {},
   "outputs": [],
   "source": []
  },
  {
   "cell_type": "code",
   "execution_count": null,
   "id": "3f8f9c83",
   "metadata": {},
   "outputs": [],
   "source": []
  },
  {
   "cell_type": "code",
   "execution_count": null,
   "id": "8d8a8c43",
   "metadata": {},
   "outputs": [],
   "source": []
  }
 ],
 "metadata": {
  "interpreter": {
   "hash": "0c2e67704c6d152f142b8c3106687cd2194e93bf9cff81b34c8c3689f569f836"
  },
  "kernelspec": {
   "display_name": "Python 3.8.0 ('hrd')",
   "language": "python",
   "name": "python3"
  },
  "language_info": {
   "codemirror_mode": {
    "name": "ipython",
    "version": 3
   },
   "file_extension": ".py",
   "mimetype": "text/x-python",
   "name": "python",
   "nbconvert_exporter": "python",
   "pygments_lexer": "ipython3",
   "version": "3.8.0"
  }
 },
 "nbformat": 4,
 "nbformat_minor": 5
}
