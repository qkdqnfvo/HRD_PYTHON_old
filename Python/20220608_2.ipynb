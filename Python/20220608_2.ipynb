{
 "cells": [
  {
   "cell_type": "code",
   "execution_count": 11,
   "id": "61d3c171-219c-4182-a442-4c94f4d5229c",
   "metadata": {},
   "outputs": [],
   "source": [
    "import sklearn"
   ]
  },
  {
   "cell_type": "code",
   "execution_count": 12,
   "id": "c86ac007-1747-4242-82f4-0682a6823a62",
   "metadata": {},
   "outputs": [
    {
     "data": {
      "text/plain": [
       "'1.1.1'"
      ]
     },
     "execution_count": 12,
     "metadata": {},
     "output_type": "execute_result"
    }
   ],
   "source": [
    "sklearn.__version__"
   ]
  },
  {
   "cell_type": "code",
   "execution_count": 13,
   "id": "bd7d34cc-80b9-4716-bb05-c777719924ea",
   "metadata": {},
   "outputs": [],
   "source": [
    "from sklearn.datasets import load_iris # 데이터 로드, 붓꽃\n",
    "from sklearn.tree import DecisionTreeClassifier # 분류\n",
    "# from sklearn.tree import DecisionTreeRegressor # 회귀\n",
    "from sklearn.model_selection import train_test_split # 데이터 스플릿\n",
    "from sklearn.metrics import accuracy_score\n",
    "import time\n"
   ]
  },
  {
   "cell_type": "code",
   "execution_count": 14,
   "id": "891496b5-778f-4618-bb5f-11a60d920f6f",
   "metadata": {},
   "outputs": [],
   "source": [
    "import pandas as pd"
   ]
  },
  {
   "cell_type": "code",
   "execution_count": 15,
   "id": "d9682d1b-267d-44f8-b16d-efa0f9106b61",
   "metadata": {},
   "outputs": [
    {
     "data": {
      "text/plain": [
       "sklearn.utils._bunch.Bunch"
      ]
     },
     "execution_count": 15,
     "metadata": {},
     "output_type": "execute_result"
    }
   ],
   "source": [
    "iris = load_iris(as_frame=False)\n",
    "type(iris)"
   ]
  },
  {
   "cell_type": "code",
   "execution_count": 16,
   "id": "02e1f54f-ea42-4657-a718-a8edb8e28954",
   "metadata": {},
   "outputs": [
    {
     "data": {
      "text/plain": [
       "dict_keys(['data', 'target', 'frame', 'target_names', 'DESCR', 'feature_names', 'filename', 'data_module'])"
      ]
     },
     "execution_count": 16,
     "metadata": {},
     "output_type": "execute_result"
    }
   ],
   "source": [
    "iris.keys()"
   ]
  },
  {
   "cell_type": "code",
   "execution_count": 17,
   "id": "5cbb572a-6737-455b-8f86-b845b9cb6d85",
   "metadata": {},
   "outputs": [
    {
     "data": {
      "text/plain": [
       "array(['setosa', 'versicolor', 'virginica'], dtype='<U10')"
      ]
     },
     "execution_count": 17,
     "metadata": {},
     "output_type": "execute_result"
    }
   ],
   "source": [
    "iris['data']\n",
    "iris.data\n",
    "iris.target\n",
    "iris.target_names\n",
    "# iris.frame"
   ]
  },
  {
   "cell_type": "code",
   "execution_count": 18,
   "id": "a57f2154-f7d5-4c28-8968-c3fb4b9b643d",
   "metadata": {},
   "outputs": [],
   "source": [
    "df = pd.DataFrame(iris.data, columns=iris.feature_names)\n",
    "df['target'] = iris.target"
   ]
  },
  {
   "cell_type": "code",
   "execution_count": 19,
   "id": "f171fe33-0c3f-48dc-91fb-4c9a9c219c00",
   "metadata": {},
   "outputs": [
    {
     "name": "stdout",
     "output_type": "stream",
     "text": [
      "0.9666666666666667\n",
      "0.9333333333333333\n",
      "0.8666666666666667\n",
      "0.8\n",
      "3.800758123397827\n"
     ]
    }
   ],
   "source": [
    "min = 10\n",
    "start = time.time()\n",
    "for _ in range(1000):\n",
    "    # X_train, X_test, Y_train, Y_test = train_test_split(df[df.columns.difference(['target'])], df['target'], test_size=0.2, shuffle=True, random_state=0)\n",
    "    X_train, X_test, Y_train, Y_test = train_test_split(df[df.columns.difference(['target'])], df['target'], test_size=0.2, shuffle=True)\n",
    "    # X_train, X_test, Y_train, Y_test = train_test_split(iris.data, iris.target, test_size=0.2, shuffle=True, random_state=0) # size 개수를 써도 되고 비율을 써도 됨(ex 0.2, 120), random_state: 시드 값, stratify: 비율 유지, 타켓을 넣으면 됨\n",
    "\n",
    "    # dt_clf = DecisionTreeClassifier(random_state=11)\n",
    "    dt_clf = DecisionTreeClassifier()\n",
    "\n",
    "    dt_clf.fit(X_train, Y_train)\n",
    "\n",
    "    pred = dt_clf.predict(X_test)\n",
    "    acc = accuracy_score(Y_test, pred)\n",
    "    if acc < min:\n",
    "        min = acc\n",
    "        print(acc)\n",
    "print(time.time()-start)    "
   ]
  },
  {
   "cell_type": "code",
   "execution_count": 20,
   "id": "b7da5119-ad60-4f56-9cb3-3d401ec79d7f",
   "metadata": {
    "tags": []
   },
   "outputs": [],
   "source": [
    "# K-FOLD VALIDATION\n",
    "\n"
   ]
  },
  {
   "cell_type": "markdown",
   "id": "6cac061f-eb03-4afe-8b7c-a57d1c8fee9a",
   "metadata": {
    "tags": []
   },
   "source": [
    "# 과적합 참조\n",
    "이미지는 ! [텍스트] (주소(url or 디렉토리))\n",
    "![과적합](https://img1.daumcdn.net/thumb/R1280x0/?scode=mtistory2&fname=https%3A%2F%2Fblog.kakaocdn.net%2Fdn%2FbePPfN%2FbtqAviZBxQ1%2FU90kaNfkp0TUnEWcUDkyE1%2Fimg.png) \n",
    "```\n",
    "print('hello')\n",
    "```"
   ]
  },
  {
   "cell_type": "code",
   "execution_count": 21,
   "id": "6e0f3965-4dd3-4465-b3bc-af8f39541619",
   "metadata": {},
   "outputs": [],
   "source": [
    "from sklearn.tree import DecisionTreeClassifier\n",
    "from sklearn.metrics import accuracy_score\n",
    "from sklearn.model_selection import KFold\n",
    "import numpy as np\n",
    "import pandas as pd"
   ]
  },
  {
   "cell_type": "code",
   "execution_count": 22,
   "id": "f881259c-33da-491b-b10f-5e2ae6ae7303",
   "metadata": {
    "tags": []
   },
   "outputs": [
    {
     "name": "stdout",
     "output_type": "stream",
     "text": [
      "1번째 교차검증\n",
      "학습 데이터 건수: 120, 검증 데이터 건수: 30\n",
      "정확도: 0.8666666666666667\n",
      "2번째 교차검증\n",
      "학습 데이터 건수: 120, 검증 데이터 건수: 30\n",
      "정확도: 0.9\n",
      "3번째 교차검증\n",
      "학습 데이터 건수: 120, 검증 데이터 건수: 30\n",
      "정확도: 1.0\n",
      "4번째 교차검증\n",
      "학습 데이터 건수: 120, 검증 데이터 건수: 30\n",
      "정확도: 0.9666666666666667\n",
      "5번째 교차검증\n",
      "학습 데이터 건수: 120, 검증 데이터 건수: 30\n",
      "정확도: 0.9333333333333333\n",
      "0.9333333333333333\n"
     ]
    }
   ],
   "source": [
    "iris = load_iris()\n",
    "dt_clf = DecisionTreeClassifier(random_state=156)\n",
    "# dt_clf = DecisionTreeClassifier()\n",
    "kfold = KFold(n_splits=5, shuffle=True)     # shift + m : 두 셀 통합, 커서기준 아래 셀과,    # ctrl + shift + - : 셀 분리\n",
    "cv_accuracy = []\n",
    "n_iter = 0\n",
    "for train_index, test_index in kfold.split(iris.data):\n",
    "    # print(train_index, test_index)\n",
    "    X_train, X_test = iris.data[train_index], iris.data[test_index]\n",
    "    Y_train, Y_test = iris.target[train_index], iris.target[test_index]\n",
    "    dt_clf.fit(X_train, Y_train)\n",
    "    pred = dt_clf.predict(X_test)\n",
    "    acc = accuracy_score(Y_test, pred)\n",
    "    cv_accuracy.append(acc)\n",
    "    n_iter += 1\n",
    "    print(f'{n_iter}번째 교차검증')\n",
    "    print(f'학습 데이터 건수: {X_train.shape[0]}, 검증 데이터 건수: {X_test.shape[0]}')\n",
    "    print(f'정확도: {acc}')\n",
    "print(np.mean(cv_accuracy))"
   ]
  },
  {
   "cell_type": "code",
   "execution_count": 23,
   "id": "29461c50-4b33-4c7b-a36e-a9cb17372667",
   "metadata": {
    "scrolled": true
   },
   "outputs": [
    {
     "name": "stdout",
     "output_type": "stream",
     "text": [
      "1번째 교차검증\n",
      "학습 데이터 건수: 120, 검증 데이터 건수: 30\n",
      "정확도: 0.9333333333333333\n",
      "2번째 교차검증\n",
      "학습 데이터 건수: 120, 검증 데이터 건수: 30\n",
      "정확도: 0.9333333333333333\n",
      "3번째 교차검증\n",
      "학습 데이터 건수: 120, 검증 데이터 건수: 30\n",
      "정확도: 0.9333333333333333\n",
      "4번째 교차검증\n",
      "학습 데이터 건수: 120, 검증 데이터 건수: 30\n",
      "정확도: 0.9666666666666667\n",
      "5번째 교차검증\n",
      "학습 데이터 건수: 120, 검증 데이터 건수: 30\n",
      "정확도: 0.9666666666666667\n",
      "0.9466666666666667\n"
     ]
    }
   ],
   "source": [
    "iris = load_iris()\n",
    "dt_clf = DecisionTreeClassifier(random_state=156)\n",
    "kfold = KFold(n_splits=5, shuffle=True)\n",
    "cv_accuracy = []\n",
    "n_iter = 0\n",
    "for train_index, test_index in kfold.split(iris.data):\n",
    "    X_train, X_test = iris.data[train_index], iris.data[test_index]\n",
    "    Y_train, Y_test = iris.target[train_index], iris.target[test_index]\n",
    "#     print('학습용 데이터 분포: \\n{}'.format(pd.Series(Y_train).value_counts()))\n",
    "#     print('검증용 데이터 분포: \\n{}'.format(pd.Series(Y_test).value_counts()))\n",
    "    dt_clf.fit(X_train, Y_train)\n",
    "    pred = dt_clf.predict(X_test)\n",
    "    acc = accuracy_score(Y_test, pred)\n",
    "    cv_accuracy.append(acc)\n",
    "    n_iter += 1\n",
    "    print(f'{n_iter}번째 교차검증')\n",
    "    print(f'학습 데이터 건수: {X_train.shape[0]}, 검증 데이터 건수: {X_test.shape[0]}')\n",
    "    print(f'정확도: {acc}')\n",
    "print(np.mean(cv_accuracy))"
   ]
  },
  {
   "cell_type": "code",
   "execution_count": 24,
   "id": "b9f7739b-9ed7-484f-80aa-3a39f2e4e8a4",
   "metadata": {},
   "outputs": [
    {
     "name": "stdout",
     "output_type": "stream",
     "text": [
      "1번째 교차검증\n",
      "학습 데이터 건수: 120, 검증 데이터 건수: 30\n",
      "정확도: 0.9666666666666667\n",
      "2번째 교차검증\n",
      "학습 데이터 건수: 120, 검증 데이터 건수: 30\n",
      "정확도: 0.9333333333333333\n",
      "3번째 교차검증\n",
      "학습 데이터 건수: 120, 검증 데이터 건수: 30\n",
      "정확도: 0.9333333333333333\n",
      "4번째 교차검증\n",
      "학습 데이터 건수: 120, 검증 데이터 건수: 30\n",
      "정확도: 0.9\n",
      "5번째 교차검증\n",
      "학습 데이터 건수: 120, 검증 데이터 건수: 30\n",
      "정확도: 0.9666666666666667\n",
      "0.9399999999999998\n"
     ]
    }
   ],
   "source": [
    "from sklearn.model_selection import StratifiedKFold\n",
    "iris = load_iris()\n",
    "dt_clf = DecisionTreeClassifier(random_state=156)\n",
    "StratifiedKFold = StratifiedKFold(n_splits=5, shuffle=True)\n",
    "cv_accuracy = []\n",
    "n_iter = 0\n",
    "for train_index, test_index in StratifiedKFold.split(iris.data, iris.target):\n",
    "    X_train, X_test = iris.data[train_index], iris.data[test_index]\n",
    "    Y_train, Y_test = iris.target[train_index], iris.target[test_index]\n",
    "#     print('학습용 데이터 분포: \\n{}'.format(pd.Series(Y_train).value_counts()))\n",
    "#     print('검증용 데이터 분포: \\n{}'.format(pd.Series(Y_test).value_counts()))\n",
    "    dt_clf.fit(X_train, Y_train)\n",
    "    pred = dt_clf.predict(X_test)\n",
    "    acc = accuracy_score(Y_test, pred)\n",
    "    cv_accuracy.append(acc)\n",
    "    n_iter += 1\n",
    "    print(f'{n_iter}번째 교차검증')\n",
    "    print(f'학습 데이터 건수: {X_train.shape[0]}, 검증 데이터 건수: {X_test.shape[0]}')\n",
    "    print(f'정확도: {acc}')\n",
    "print(np.mean(cv_accuracy))"
   ]
  },
  {
   "cell_type": "code",
   "execution_count": null,
   "id": "af20e003-b406-4fac-97e2-e2fb0d43194b",
   "metadata": {},
   "outputs": [],
   "source": []
  }
 ],
 "metadata": {
  "interpreter": {
   "hash": "0c2e67704c6d152f142b8c3106687cd2194e93bf9cff81b34c8c3689f569f836"
  },
  "kernelspec": {
   "display_name": "Python 3 (ipykernel)",
   "language": "python",
   "name": "python3"
  },
  "language_info": {
   "codemirror_mode": {
    "name": "ipython",
    "version": 3
   },
   "file_extension": ".py",
   "mimetype": "text/x-python",
   "name": "python",
   "nbconvert_exporter": "python",
   "pygments_lexer": "ipython3",
   "version": "3.9.7"
  }
 },
 "nbformat": 4,
 "nbformat_minor": 5
}
